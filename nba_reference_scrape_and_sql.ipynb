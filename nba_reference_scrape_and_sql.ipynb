{
 "cells": [
  {
   "cell_type": "markdown",
   "metadata": {},
   "source": [
    "Import libraries and set url to scrape"
   ]
  },
  {
   "cell_type": "code",
   "execution_count": 62,
   "metadata": {},
   "outputs": [],
   "source": [
    "from urllib.request import urlopen\n",
    "from bs4 import BeautifulSoup\n",
    "import pandas as pd\n",
    "from sqlalchemy import create_engine, Table, Column, Integer, String, DateTime, text, select, insert, and_, or_\n",
    "from sqlalchemy.orm import sessionmaker,  DeclarativeBase, Mapped, mapped_column, relationship, Session\n",
    "from typing import List, Optional\n",
    "import datetime\n",
    "import numpy as np\n",
    "import re\n",
    "from unidecode import unidecode\n",
    "import pyodbc\n",
    "from sqlalchemy.engine import URL\n",
    "import time\n",
    "\n",
    "playoff_url = \"https://www.basketball-reference.com/playoffs/\"\n",
    "\n",
    "SERVER = 'localhost\\SQLEXPRESS'\n",
    "DRIVER = '{ODBC Driver 18 for SQL Server}'\n",
    "# DRIVER = '{SQL Server}'\n",
    "DATABASE = 'nba_standings'\n",
    "USERNAME = 'OBA-NICHO11\\Dalton'\n",
    "PASSWORD = 'Endoneuro995350'\n",
    "nba_standings_db_string = f'DRIVER={DRIVER};SERVER={SERVER};DATABASE={DATABASE};UID={USERNAME};PWD={PASSWORD};TrustServerCertificate=yes;Trusted_Connection=false;'\n",
    "# nba_standings_db_string = f'DRIVER={DRIVER};SERVER={SERVER};DATABASE={DATABASE};TrustServerCertificate=yes;'\n",
    "# nba_standings_connection_url = URL.create(\"mssql+pyodbc\", query={\"odbc_connect\": nba_standings_db_string})\n",
    "nba_standings_db_string = f'DRIVER={DRIVER};SERVER={SERVER};DATABASE={DATABASE};TrustServerCertificate=yes;Trusted_Connection=yes'\n",
    "nba_standings_connection_url = URL.create(\"mssql+pyodbc\", query={\"odbc_connect\": nba_standings_db_string})"
   ]
  },
  {
   "cell_type": "code",
   "execution_count": 2,
   "metadata": {},
   "outputs": [],
   "source": [
    "def scrape_nba_playoff_data(url, last_year=2023):\n",
    "    html = urlopen(url)      \n",
    "    soup = BeautifulSoup(html, features=\"lxml\")\n",
    "\n",
    "    # use getText()to extract the headers into a list\n",
    "    headers = [th.getText() for th in soup.findAll('tr', limit=2)[1].findAll('th')]\n",
    "    rows = soup.findAll('tr')[2:]\n",
    "    rows_data = [[td.getText() for td in rows[i].findAll('td')]\n",
    "                        for i in range(len(rows))]\n",
    "    # if you print row_data here you'll see an empty row\n",
    "    # so, remove the empty row\n",
    "    rows_data.pop(20)\n",
    "    # for simplicity subset the data for only 39 seasons\n",
    "    rows_data = rows_data[0:38]\n",
    "    # we're missing a column for years\n",
    "    # add the years into rows_data\n",
    "    for i in range(0, len(rows_data)):\n",
    "        rows_data[i].insert(0, last_year)\n",
    "        last_year -=1\n",
    "\n",
    "    # create the dataframe\n",
    "    nba_finals = pd.DataFrame(rows_data, columns = headers)\n",
    "    \n",
    "    # Separate player and valye for playoff leaders\n",
    "    player_pattern = re.compile('([a-zA-Z. ]+) \\(')\n",
    "    count_pattern = re.compile('[0-9.]{2,4}')\n",
    "    for stat in ['Points', 'Rebounds', 'Assists', 'Win Shares']:\n",
    "\n",
    "        player = [re.findall(player_pattern, unidecode(pts))[0] for pts in nba_finals_df[stat]]\n",
    "        count = [re.findall(count_pattern, unidecode(pts))[0] for pts in nba_finals_df[stat]]\n",
    "\n",
    "        nba_finals_df[f'{stat} Leader'] = player\n",
    "        nba_finals_df[stat] = count\n",
    "\n",
    "    return nba_finals"
   ]
  },
  {
   "cell_type": "code",
   "execution_count": 3,
   "metadata": {},
   "outputs": [],
   "source": [
    "# create a function to scrape team performance for multiple years\n",
    "def scrape_NBA_team_data(years = [2017, 2018]):\n",
    "    \n",
    "    final_df = pd.DataFrame(columns = [\"Year\", \"Team\", \"W\", \"L\",\n",
    "                                       \"W/L%\", \"GB\", \"PS/G\", \"PA/G\",\n",
    "                                       \"SRS\", \"Playoffs\",\n",
    "                                       \"Losing_season\"])\n",
    "    for year in years:\n",
    "        # NBA season to scrape\n",
    "        url = f\"https://www.basketball-reference.com/leagues/NBA_{year}_standings.html\"\n",
    "        html = urlopen(url)\n",
    "        soup = BeautifulSoup(html, features=\"lxml\")\n",
    "        titles = [th.getText() for th in soup.findAll('tr', limit=2)[0].findAll('th')]\n",
    "\n",
    "        # first, find only column headers\n",
    "        seen = set()\n",
    "        seen_add = seen.add\n",
    "        headers = [t for t in titles if len(t.split(' ')) < 2 and not (t in seen or seen_add(t))]\n",
    "        # then, exclude first set of column headers (duplicated)\n",
    "        seen = set()\n",
    "        seen_add = seen.add\n",
    "        titles = [t for t in titles if len(t.split(' ')) >= 2 and 'Division' not in t.split(' ') and 'Conference' not in t.split(' ') and not (t in seen or seen_add(t))]\n",
    "\n",
    "        # next, grab all data from rows (avoid first row)\n",
    "        rows = soup.findAll('tr')[1:]\n",
    "        team_stats = [[td.getText() for td in rows[i].findAll('td')] \n",
    "                    for i in range(len(rows))]\n",
    "\n",
    "        # remove empty elements\n",
    "        team_stats = [e for e in team_stats if e != []]\n",
    "\n",
    "        # only keep needed rows\n",
    "        team_stats = team_stats[0:len(titles)]\n",
    "\n",
    "        # add team name to each row in team_stats\n",
    "        for i in range(0, len(team_stats)):\n",
    "            team_stats[i].insert(0, titles[i])\n",
    "            team_stats[i].insert(0, year)\n",
    "\n",
    "        # add team, year columns to headers\n",
    "        headers.insert(0, \"Team\")\n",
    "        headers.insert(0, \"Year\")\n",
    "\n",
    "        # create a dataframe with all aquired info\n",
    "        year_standings = pd.DataFrame(team_stats, columns = headers)\n",
    "\n",
    "        # add a column to dataframe to indicate playoff appearance\n",
    "        year_standings[\"Playoffs\"] = [\"Y\" if \"*\" in ele else \"N\" for ele in year_standings[\"Team\"]]\n",
    "        # remove * from team names\n",
    "        year_standings[\"Team\"] = [ele.replace('*', '') for ele in year_standings[\"Team\"]]\n",
    "        # add losing season indicator (win % < .5)\n",
    "        year_standings[\"Losing_season\"] = [\"Y\" if float(ele) < .5 else \"N\" for ele in year_standings[\"W/L%\"]]\n",
    "\n",
    "        print(f'{year}: {year_standings.shape[0]} teams')\n",
    "\n",
    "        # append new dataframe to final_df\n",
    "        final_df = pd.concat((final_df, year_standings), axis=0, ignore_index=True)\n",
    "    \n",
    "        time.sleep(10)\n",
    "\n",
    "    return final_df"
   ]
  },
  {
   "cell_type": "code",
   "execution_count": 4,
   "metadata": {},
   "outputs": [],
   "source": [
    "def scrape_advanced_stats_data(years = [2017, 2018]):\n",
    "    \n",
    "    final_df = pd.DataFrame()\n",
    "\n",
    "    # for year in years:\n",
    "        # NBA season to scrape\n",
    "    for year in years:\n",
    "\n",
    "        url = f'https://www.basketball-reference.com/leagues/NBA_{year}_advanced.html'\n",
    "        html = urlopen(url)\n",
    "        soup = BeautifulSoup(html, features=\"lxml\")\n",
    "        headers = [th.getText() for th in soup.findAll('tr', limit=2)[0].findAll('th')]\n",
    "\n",
    "        # next, grab all data from rows (avoid first row)\n",
    "        rows = soup.findAll('tr')[1:]\n",
    "        player_stats = [[td.getText() for td in rows[i].findAll('td')] \n",
    "                        for i in range(len(rows))]\n",
    "\n",
    "        # remove empty elements\n",
    "        player_stats = [e for e in player_stats if e != []]\n",
    "\n",
    "        # add year to each row in player_stats\n",
    "        for i in range(0, len(player_stats)):\n",
    "            player_stats[i].insert(0, year)\n",
    "\n",
    "        # add year column to headers, remove Rk\n",
    "        headers.insert(0, \"Year\")\n",
    "        headers.remove('Rk')\n",
    "\n",
    "        # create a dataframe with all aquired info\n",
    "        year_stats = pd.DataFrame(player_stats, columns = headers)\n",
    "        year_stats = year_stats.drop(labels = '\\xa0', axis = 1)\n",
    "\n",
    "        print(f'{year}: {year_stats.shape[0]} players')\n",
    "\n",
    "        # append new dataframe to final_df\n",
    "        final_df = pd.concat((final_df, year_stats), axis=0, ignore_index=True)\n",
    "    \n",
    "        time.sleep(10)    \n",
    "\n",
    "    return final_df"
   ]
  },
  {
   "cell_type": "code",
   "execution_count": null,
   "metadata": {},
   "outputs": [],
   "source": [
    "nba_finals_df = scrape_nba_playoff_data(url=playoff_url, last_year=2023)\n",
    "nba_finals_df"
   ]
  },
  {
   "cell_type": "code",
   "execution_count": null,
   "metadata": {},
   "outputs": [],
   "source": [
    "nba_standings_data = scrape_NBA_team_data(years = range(2015, 2024))\n",
    "nba_standings_data\n"
   ]
  },
  {
   "cell_type": "code",
   "execution_count": null,
   "metadata": {},
   "outputs": [],
   "source": [
    "nba_advanced_stats = scrape_advanced_stats_data(years = range(2015, 2024))\n",
    "nba_advanced_stats"
   ]
  },
  {
   "cell_type": "markdown",
   "metadata": {},
   "source": [
    "### Connect to SQL Express database"
   ]
  },
  {
   "cell_type": "code",
   "execution_count": 5,
   "metadata": {},
   "outputs": [],
   "source": [
    "engine = create_engine(nba_standings_connection_url)"
   ]
  },
  {
   "cell_type": "code",
   "execution_count": null,
   "metadata": {},
   "outputs": [],
   "source": []
  },
  {
   "cell_type": "markdown",
   "metadata": {},
   "source": [
    "### Push NBA Standings and Advanced Stats dataframes to database"
   ]
  },
  {
   "cell_type": "code",
   "execution_count": null,
   "metadata": {},
   "outputs": [],
   "source": [
    "nba_standings_data.to_sql('nba_standings', engine.engine)\n",
    "\n",
    "nba_advanced_stats['index'] = range(nba_advanced_stats.shape[0])\n",
    "bad_columns = [col for col in nba_advanced_stats.columns if col == '\\xa0']\n",
    "if len(bad_columns) > 0:\n",
    "    nba_advanced_stats = nba_advanced_stats.drop(labels = '\\xa0', axis = 1)\n",
    "\n",
    "nba_advanced_stats.to_sql('nba_advanced_stats', engine.engine)"
   ]
  },
  {
   "cell_type": "markdown",
   "metadata": {},
   "source": [
    "### Practice Queries in Pandas"
   ]
  },
  {
   "cell_type": "code",
   "execution_count": 6,
   "metadata": {},
   "outputs": [
    {
     "data": {
      "text/html": [
       "<div>\n",
       "<style scoped>\n",
       "    .dataframe tbody tr th:only-of-type {\n",
       "        vertical-align: middle;\n",
       "    }\n",
       "\n",
       "    .dataframe tbody tr th {\n",
       "        vertical-align: top;\n",
       "    }\n",
       "\n",
       "    .dataframe thead th {\n",
       "        text-align: right;\n",
       "    }\n",
       "</style>\n",
       "<table border=\"1\" class=\"dataframe\">\n",
       "  <thead>\n",
       "    <tr style=\"text-align: right;\">\n",
       "      <th></th>\n",
       "      <th>index</th>\n",
       "      <th>Year</th>\n",
       "      <th>Team</th>\n",
       "      <th>W</th>\n",
       "      <th>L</th>\n",
       "      <th>W/L%</th>\n",
       "      <th>GB</th>\n",
       "      <th>PS/G</th>\n",
       "      <th>PA/G</th>\n",
       "      <th>SRS</th>\n",
       "      <th>Playoffs</th>\n",
       "      <th>Losing_season</th>\n",
       "    </tr>\n",
       "  </thead>\n",
       "  <tbody>\n",
       "    <tr>\n",
       "      <th>0</th>\n",
       "      <td>0</td>\n",
       "      <td>2015</td>\n",
       "      <td>Toronto Raptors</td>\n",
       "      <td>49</td>\n",
       "      <td>33</td>\n",
       "      <td>.598</td>\n",
       "      <td>0</td>\n",
       "      <td>104.0</td>\n",
       "      <td>100.9</td>\n",
       "      <td>2.45</td>\n",
       "      <td>Y</td>\n",
       "      <td>N</td>\n",
       "    </tr>\n",
       "    <tr>\n",
       "      <th>1</th>\n",
       "      <td>1</td>\n",
       "      <td>2015</td>\n",
       "      <td>Boston Celtics</td>\n",
       "      <td>40</td>\n",
       "      <td>42</td>\n",
       "      <td>.488</td>\n",
       "      <td>9.0</td>\n",
       "      <td>101.4</td>\n",
       "      <td>101.2</td>\n",
       "      <td>-0.40</td>\n",
       "      <td>Y</td>\n",
       "      <td>Y</td>\n",
       "    </tr>\n",
       "    <tr>\n",
       "      <th>2</th>\n",
       "      <td>2</td>\n",
       "      <td>2015</td>\n",
       "      <td>Brooklyn Nets</td>\n",
       "      <td>38</td>\n",
       "      <td>44</td>\n",
       "      <td>.463</td>\n",
       "      <td>11.0</td>\n",
       "      <td>98.0</td>\n",
       "      <td>100.9</td>\n",
       "      <td>-3.13</td>\n",
       "      <td>Y</td>\n",
       "      <td>Y</td>\n",
       "    </tr>\n",
       "    <tr>\n",
       "      <th>3</th>\n",
       "      <td>3</td>\n",
       "      <td>2015</td>\n",
       "      <td>Philadelphia 76ers</td>\n",
       "      <td>18</td>\n",
       "      <td>64</td>\n",
       "      <td>.220</td>\n",
       "      <td>31.0</td>\n",
       "      <td>92.0</td>\n",
       "      <td>101.0</td>\n",
       "      <td>-9.04</td>\n",
       "      <td>N</td>\n",
       "      <td>Y</td>\n",
       "    </tr>\n",
       "    <tr>\n",
       "      <th>4</th>\n",
       "      <td>4</td>\n",
       "      <td>2015</td>\n",
       "      <td>New York Knicks</td>\n",
       "      <td>17</td>\n",
       "      <td>65</td>\n",
       "      <td>.207</td>\n",
       "      <td>32.0</td>\n",
       "      <td>91.9</td>\n",
       "      <td>101.2</td>\n",
       "      <td>-9.50</td>\n",
       "      <td>N</td>\n",
       "      <td>Y</td>\n",
       "    </tr>\n",
       "    <tr>\n",
       "      <th>...</th>\n",
       "      <td>...</td>\n",
       "      <td>...</td>\n",
       "      <td>...</td>\n",
       "      <td>...</td>\n",
       "      <td>...</td>\n",
       "      <td>...</td>\n",
       "      <td>...</td>\n",
       "      <td>...</td>\n",
       "      <td>...</td>\n",
       "      <td>...</td>\n",
       "      <td>...</td>\n",
       "      <td>...</td>\n",
       "    </tr>\n",
       "    <tr>\n",
       "      <th>325</th>\n",
       "      <td>55</td>\n",
       "      <td>2014</td>\n",
       "      <td>San Antonio Spurs</td>\n",
       "      <td>62</td>\n",
       "      <td>20</td>\n",
       "      <td>.756</td>\n",
       "      <td>0</td>\n",
       "      <td>105.4</td>\n",
       "      <td>97.6</td>\n",
       "      <td>8.00</td>\n",
       "      <td>Y</td>\n",
       "      <td>N</td>\n",
       "    </tr>\n",
       "    <tr>\n",
       "      <th>326</th>\n",
       "      <td>56</td>\n",
       "      <td>2014</td>\n",
       "      <td>Houston Rockets</td>\n",
       "      <td>54</td>\n",
       "      <td>28</td>\n",
       "      <td>.659</td>\n",
       "      <td>8.0</td>\n",
       "      <td>107.7</td>\n",
       "      <td>103.1</td>\n",
       "      <td>5.06</td>\n",
       "      <td>Y</td>\n",
       "      <td>N</td>\n",
       "    </tr>\n",
       "    <tr>\n",
       "      <th>327</th>\n",
       "      <td>57</td>\n",
       "      <td>2014</td>\n",
       "      <td>Memphis Grizzlies</td>\n",
       "      <td>50</td>\n",
       "      <td>32</td>\n",
       "      <td>.610</td>\n",
       "      <td>12.0</td>\n",
       "      <td>96.1</td>\n",
       "      <td>94.6</td>\n",
       "      <td>2.18</td>\n",
       "      <td>Y</td>\n",
       "      <td>N</td>\n",
       "    </tr>\n",
       "    <tr>\n",
       "      <th>328</th>\n",
       "      <td>58</td>\n",
       "      <td>2014</td>\n",
       "      <td>Dallas Mavericks</td>\n",
       "      <td>49</td>\n",
       "      <td>33</td>\n",
       "      <td>.598</td>\n",
       "      <td>13.0</td>\n",
       "      <td>104.8</td>\n",
       "      <td>102.4</td>\n",
       "      <td>2.91</td>\n",
       "      <td>Y</td>\n",
       "      <td>N</td>\n",
       "    </tr>\n",
       "    <tr>\n",
       "      <th>329</th>\n",
       "      <td>59</td>\n",
       "      <td>2014</td>\n",
       "      <td>New Orleans Pelicans</td>\n",
       "      <td>34</td>\n",
       "      <td>48</td>\n",
       "      <td>.415</td>\n",
       "      <td>28.0</td>\n",
       "      <td>99.7</td>\n",
       "      <td>102.4</td>\n",
       "      <td>-1.98</td>\n",
       "      <td>N</td>\n",
       "      <td>Y</td>\n",
       "    </tr>\n",
       "  </tbody>\n",
       "</table>\n",
       "<p>330 rows × 12 columns</p>\n",
       "</div>"
      ],
      "text/plain": [
       "     index  Year                  Team   W   L  W/L%    GB   PS/G   PA/G  \\\n",
       "0        0  2015       Toronto Raptors  49  33  .598     0  104.0  100.9   \n",
       "1        1  2015        Boston Celtics  40  42  .488   9.0  101.4  101.2   \n",
       "2        2  2015         Brooklyn Nets  38  44  .463  11.0   98.0  100.9   \n",
       "3        3  2015    Philadelphia 76ers  18  64  .220  31.0   92.0  101.0   \n",
       "4        4  2015       New York Knicks  17  65  .207  32.0   91.9  101.2   \n",
       "..     ...   ...                   ...  ..  ..   ...   ...    ...    ...   \n",
       "325     55  2014     San Antonio Spurs  62  20  .756     0  105.4   97.6   \n",
       "326     56  2014       Houston Rockets  54  28  .659   8.0  107.7  103.1   \n",
       "327     57  2014     Memphis Grizzlies  50  32  .610  12.0   96.1   94.6   \n",
       "328     58  2014      Dallas Mavericks  49  33  .598  13.0  104.8  102.4   \n",
       "329     59  2014  New Orleans Pelicans  34  48  .415  28.0   99.7  102.4   \n",
       "\n",
       "       SRS Playoffs Losing_season  \n",
       "0     2.45        Y             N  \n",
       "1    -0.40        Y             Y  \n",
       "2    -3.13        Y             Y  \n",
       "3    -9.04        N             Y  \n",
       "4    -9.50        N             Y  \n",
       "..     ...      ...           ...  \n",
       "325   8.00        Y             N  \n",
       "326   5.06        Y             N  \n",
       "327   2.18        Y             N  \n",
       "328   2.91        Y             N  \n",
       "329  -1.98        N             Y  \n",
       "\n",
       "[330 rows x 12 columns]"
      ]
     },
     "execution_count": 6,
     "metadata": {},
     "output_type": "execute_result"
    }
   ],
   "source": [
    "# query = f\"\"\"\n",
    "#     SELECT * \n",
    "#     FROM nba_standings\n",
    "#     WHERE CAST(GB as float) = 0  \n",
    "#     ORDER BY W DESC, SRS;\n",
    "#     \"\"\"  \n",
    "query = f\"\"\"\n",
    "    SELECT * \n",
    "    FROM nba_standings\n",
    "    \"\"\"  \n",
    "\n",
    "with engine.connect() as conn, conn.begin():\n",
    "    query = query  \n",
    "    queried_standings = pd.read_sql_query(query, conn)\n",
    "queried_standings"
   ]
  },
  {
   "cell_type": "markdown",
   "metadata": {},
   "source": [
    "### Add some years to the standings data"
   ]
  },
  {
   "cell_type": "code",
   "execution_count": null,
   "metadata": {},
   "outputs": [],
   "source": [
    "more_nba_standings_data = scrape_NBA_team_data(years = range(2013, 2015))\n",
    "with engine.connect() as conn, conn.begin():\n",
    "    more_nba_standings_data.to_sql('nba_standings', conn, if_exists='append')\n"
   ]
  },
  {
   "cell_type": "markdown",
   "metadata": {},
   "source": [
    "### Practice Queries in sqlalchemy"
   ]
  },
  {
   "cell_type": "code",
   "execution_count": null,
   "metadata": {},
   "outputs": [],
   "source": [
    "with Session(bind=engine) as session:\n",
    "    result = session.execute(\n",
    "        text(\"UPDATE nba_standings SET GB=0 WHERE GB LIKE '%\\u2014%'\"))\n",
    "    session.commit()"
   ]
  },
  {
   "cell_type": "markdown",
   "metadata": {},
   "source": [
    "### Grab tables from database using table reflection in SQLAlchemy"
   ]
  },
  {
   "cell_type": "code",
   "execution_count": 7,
   "metadata": {},
   "outputs": [
    {
     "data": {
      "text/plain": [
       "__main__.Standings"
      ]
     },
     "execution_count": 7,
     "metadata": {},
     "output_type": "execute_result"
    }
   ],
   "source": [
    "class Base(DeclarativeBase):\n",
    "     pass\n",
    "class Standings(Base):\n",
    "    __table__ = Table(\n",
    "        \"nba_standings\",\n",
    "        Base.metadata,\n",
    "        Column(\"index\", \n",
    "                Integer, \n",
    "                primary_key=True),\n",
    "        autoload_with=engine,\n",
    "    )\n",
    "\n",
    "# nba_standings\n",
    "Standings"
   ]
  },
  {
   "cell_type": "markdown",
   "metadata": {},
   "source": [
    "### Push advanced_stats_df to msSQL, then store it as a table in SQLAlchemy"
   ]
  },
  {
   "cell_type": "code",
   "execution_count": null,
   "metadata": {},
   "outputs": [],
   "source": [
    "nba_advanced_stats['index'] = range(nba_advanced_stats.shape[0])\n",
    "columns = [col for idx, col in enumerate(nba_advanced_stats.columns)]\n",
    "bad_columns = [(idx, col) for idx, col in enumerate(nba_advanced_stats.columns) if col == '\\xa0']\n",
    "if len(bad_columns) > 0:\n",
    "    nba_advanced_stats = nba_advanced_stats.drop(labels = '\\xa0', axis = 1)\n",
    "\n",
    "nba_advanced_stats.to_sql('nba_advanced_stats', engine.engine)"
   ]
  },
  {
   "cell_type": "code",
   "execution_count": null,
   "metadata": {},
   "outputs": [],
   "source": [
    "\n",
    "class AdvancedStats(Base):\n",
    "    __table__ = Table(\n",
    "        \"nba_advanced_stats\",\n",
    "        Base.metadata,\n",
    "        Column(\"index\", \n",
    "                Integer, \n",
    "                primary_key=True),\n",
    "        autoload_with=engine,\n",
    "    )\n"
   ]
  },
  {
   "cell_type": "code",
   "execution_count": 10,
   "metadata": {},
   "outputs": [
    {
     "data": {
      "text/plain": [
       "Table('nba_advanced_stats', MetaData(), Column('level_0', BIGINT(), table=<nba_advanced_stats>), Column('Year', BIGINT(), table=<nba_advanced_stats>), Column('Player', VARCHAR(collation='SQL_Latin1_General_CP1_CI_AS'), table=<nba_advanced_stats>), Column('Pos', VARCHAR(collation='SQL_Latin1_General_CP1_CI_AS'), table=<nba_advanced_stats>), Column('Age', VARCHAR(collation='SQL_Latin1_General_CP1_CI_AS'), table=<nba_advanced_stats>), Column('Tm', VARCHAR(collation='SQL_Latin1_General_CP1_CI_AS'), table=<nba_advanced_stats>), Column('G', VARCHAR(collation='SQL_Latin1_General_CP1_CI_AS'), table=<nba_advanced_stats>), Column('MP', VARCHAR(collation='SQL_Latin1_General_CP1_CI_AS'), table=<nba_advanced_stats>), Column('PER', VARCHAR(collation='SQL_Latin1_General_CP1_CI_AS'), table=<nba_advanced_stats>), Column('TS%', VARCHAR(collation='SQL_Latin1_General_CP1_CI_AS'), table=<nba_advanced_stats>), Column('3PAr', VARCHAR(collation='SQL_Latin1_General_CP1_CI_AS'), table=<nba_advanced_stats>), Column('FTr', VARCHAR(collation='SQL_Latin1_General_CP1_CI_AS'), table=<nba_advanced_stats>), Column('ORB%', VARCHAR(collation='SQL_Latin1_General_CP1_CI_AS'), table=<nba_advanced_stats>), Column('DRB%', VARCHAR(collation='SQL_Latin1_General_CP1_CI_AS'), table=<nba_advanced_stats>), Column('TRB%', VARCHAR(collation='SQL_Latin1_General_CP1_CI_AS'), table=<nba_advanced_stats>), Column('AST%', VARCHAR(collation='SQL_Latin1_General_CP1_CI_AS'), table=<nba_advanced_stats>), Column('STL%', VARCHAR(collation='SQL_Latin1_General_CP1_CI_AS'), table=<nba_advanced_stats>), Column('BLK%', VARCHAR(collation='SQL_Latin1_General_CP1_CI_AS'), table=<nba_advanced_stats>), Column('TOV%', VARCHAR(collation='SQL_Latin1_General_CP1_CI_AS'), table=<nba_advanced_stats>), Column('USG%', VARCHAR(collation='SQL_Latin1_General_CP1_CI_AS'), table=<nba_advanced_stats>), Column('OWS', VARCHAR(collation='SQL_Latin1_General_CP1_CI_AS'), table=<nba_advanced_stats>), Column('DWS', VARCHAR(collation='SQL_Latin1_General_CP1_CI_AS'), table=<nba_advanced_stats>), Column('WS', VARCHAR(collation='SQL_Latin1_General_CP1_CI_AS'), table=<nba_advanced_stats>), Column('WS/48', VARCHAR(collation='SQL_Latin1_General_CP1_CI_AS'), table=<nba_advanced_stats>), Column('OBPM', VARCHAR(collation='SQL_Latin1_General_CP1_CI_AS'), table=<nba_advanced_stats>), Column('DBPM', VARCHAR(collation='SQL_Latin1_General_CP1_CI_AS'), table=<nba_advanced_stats>), Column('BPM', VARCHAR(collation='SQL_Latin1_General_CP1_CI_AS'), table=<nba_advanced_stats>), Column('VORP', VARCHAR(collation='SQL_Latin1_General_CP1_CI_AS'), table=<nba_advanced_stats>), Column('index', Integer(), table=<nba_advanced_stats>, primary_key=True, nullable=False), schema=None)"
      ]
     },
     "execution_count": 10,
     "metadata": {},
     "output_type": "execute_result"
    }
   ],
   "source": [
    "AdvancedStats.__table__"
   ]
  },
  {
   "cell_type": "markdown",
   "metadata": {},
   "source": [
    "### Practice select, insert, update statments with SQLAlchemy"
   ]
  },
  {
   "cell_type": "markdown",
   "metadata": {},
   "source": [
    "Using core, engine construction"
   ]
  },
  {
   "cell_type": "markdown",
   "metadata": {},
   "source": [
    "Using ORM, session"
   ]
  },
  {
   "cell_type": "code",
   "execution_count": 15,
   "metadata": {},
   "outputs": [
    {
     "name": "stdout",
     "output_type": "stream",
     "text": [
      "(<__main__.Standings object at 0x000002604F7E0CD0>,)\n",
      "(<__main__.Standings object at 0x000002604F7E1D10>,)\n",
      "(<__main__.Standings object at 0x000002604F7E1C50>,)\n",
      "(<__main__.Standings object at 0x000002604F7E1BD0>,)\n",
      "(<__main__.Standings object at 0x000002604F7E1310>,)\n",
      "(<__main__.Standings object at 0x000002604F7E4790>,)\n",
      "(<__main__.Standings object at 0x000002604F7E4410>,)\n",
      "(<__main__.Standings object at 0x000002604F7E4650>,)\n",
      "(<__main__.Standings object at 0x000002604F7E4550>,)\n",
      "(<__main__.Standings object at 0x000002604F7E4250>,)\n",
      "(<__main__.Standings object at 0x000002604F7E4850>,)\n",
      "(<__main__.Standings object at 0x000002604F7E48D0>,)\n",
      "(<__main__.Standings object at 0x000002604F7E4BD0>,)\n",
      "(<__main__.Standings object at 0x000002604F7E4A50>,)\n",
      "(<__main__.Standings object at 0x000002604F7E5010>,)\n",
      "(<__main__.Standings object at 0x000002604F7E5190>,)\n",
      "SELECT nba_standings.index, nba_standings.\"Year\", nba_standings.\"Team\", nba_standings.\"W\", nba_standings.\"L\", nba_standings.\"W/L%\", nba_standings.\"GB\", nba_standings.\"PS/G\", nba_standings.\"PA/G\", nba_standings.\"SRS\", nba_standings.\"Playoffs\", nba_standings.\"Losing_season\" \n",
      "FROM nba_standings \n",
      "WHERE nba_standings.\"W\" > :W_1 AND nba_standings.\"Year\" > :Year_1\n"
     ]
    }
   ],
   "source": [
    "stmt = select(Standings).where(Standings.W > 50, Standings.Year > 2020)\n",
    "with Session(bind=engine) as session:\n",
    "    for row in session.execute(stmt):\n",
    "         print(row)\n",
    "\n",
    "print(stmt)"
   ]
  },
  {
   "cell_type": "code",
   "execution_count": 36,
   "metadata": {},
   "outputs": [
    {
     "data": {
      "text/plain": [
       "Table('nba_standings', MetaData(), Column('index', Integer(), table=<nba_standings>, primary_key=True, nullable=False), Column('Year', BIGINT(), table=<nba_standings>), Column('Team', VARCHAR(collation='SQL_Latin1_General_CP1_CI_AS'), table=<nba_standings>), Column('W', VARCHAR(collation='SQL_Latin1_General_CP1_CI_AS'), table=<nba_standings>), Column('L', VARCHAR(collation='SQL_Latin1_General_CP1_CI_AS'), table=<nba_standings>), Column('W/L%', VARCHAR(collation='SQL_Latin1_General_CP1_CI_AS'), table=<nba_standings>), Column('GB', VARCHAR(collation='SQL_Latin1_General_CP1_CI_AS'), table=<nba_standings>), Column('PS/G', VARCHAR(collation='SQL_Latin1_General_CP1_CI_AS'), table=<nba_standings>), Column('PA/G', VARCHAR(collation='SQL_Latin1_General_CP1_CI_AS'), table=<nba_standings>), Column('SRS', VARCHAR(collation='SQL_Latin1_General_CP1_CI_AS'), table=<nba_standings>), Column('Playoffs', VARCHAR(collation='SQL_Latin1_General_CP1_CI_AS'), table=<nba_standings>), Column('Losing_season', VARCHAR(collation='SQL_Latin1_General_CP1_CI_AS'), table=<nba_standings>), schema=None)"
      ]
     },
     "execution_count": 36,
     "metadata": {},
     "output_type": "execute_result"
    }
   ],
   "source": [
    "row = session.scalars(select(Standings)).first()\n",
    "row.__table__"
   ]
  },
  {
   "cell_type": "code",
   "execution_count": 53,
   "metadata": {},
   "outputs": [
    {
     "name": "stdout",
     "output_type": "stream",
     "text": [
      "Team Name: Golden State Warriors         73 Wins\n",
      "Team Name: San Antonio Spurs             67 Wins\n",
      "Team Name: Golden State Warriors         67 Wins\n",
      "Team Name: Golden State Warriors         67 Wins\n",
      "Team Name: Miami Heat                    66 Wins\n",
      "Team Name: Houston Rockets               65 Wins\n",
      "Team Name: Phoenix Suns                  64 Wins\n",
      "Team Name: San Antonio Spurs             62 Wins\n",
      "Team Name: San Antonio Spurs             61 Wins\n",
      "Team Name: Atlanta Hawks                 60 Wins\n",
      "Team Name: Oklahoma City Thunder         60 Wins\n",
      "Team Name: Milwaukee Bucks               60 Wins\n",
      "Team Name: Oklahoma City Thunder         59 Wins\n",
      "Team Name: Toronto Raptors               59 Wins\n",
      "Team Name: Golden State Warriors         58 Wins\n",
      "Team Name: San Antonio Spurs             58 Wins\n",
      "Team Name: Toronto Raptors               58 Wins\n",
      "Team Name: Milwaukee Bucks               58 Wins\n",
      "Team Name: Boston Celtics                57 Wins\n",
      "Team Name: Denver Nuggets                57 Wins\n",
      "Team Name: Los Angeles Clippers          57 Wins\n",
      "Team Name: Golden State Warriors         57 Wins\n",
      "Team Name: Cleveland Cavaliers           57 Wins\n",
      "Team Name: Toronto Raptors               56 Wins\n",
      "Team Name: Los Angeles Clippers          56 Wins\n",
      "Team Name: Houston Rockets               56 Wins\n",
      "Team Name: Milwaukee Bucks               56 Wins\n",
      "Team Name: Memphis Grizzlies             56 Wins\n",
      "Team Name: Indiana Pacers                56 Wins\n",
      "Team Name: Los Angeles Clippers          56 Wins\n",
      "Team Name: Memphis Grizzlies             56 Wins\n",
      "Team Name: Boston Celtics                55 Wins\n",
      "Team Name: Memphis Grizzlies             55 Wins\n",
      "Team Name: San Antonio Spurs             55 Wins\n",
      "Team Name: Houston Rockets               55 Wins\n",
      "Team Name: Oklahoma City Thunder         55 Wins\n",
      "Team Name: Denver Nuggets                54 Wins\n",
      "Team Name: Philadelphia 76ers            54 Wins\n",
      "Team Name: Miami Heat                    54 Wins\n",
      "Team Name: Portland Trail Blazers        54 Wins\n",
      "Team Name: New York Knicks               54 Wins\n",
      "Team Name: Houston Rockets               54 Wins\n",
      "Team Name: Cleveland Cavaliers           53 Wins\n",
      "Team Name: Golden State Warriors         53 Wins\n",
      "Team Name: Denver Nuggets                53 Wins\n",
      "Team Name: Portland Trail Blazers        53 Wins\n",
      "Team Name: Houston Rockets               53 Wins\n",
      "Team Name: Toronto Raptors               53 Wins\n",
      "Team Name: Miami Heat                    53 Wins\n",
      "Team Name: Los Angeles Clippers          53 Wins\n",
      "Team Name: Boston Celtics                53 Wins\n",
      "Team Name: Los Angeles Lakers            52 Wins\n",
      "Team Name: Utah Jazz                     52 Wins\n",
      "Team Name: Philadelphia 76ers            52 Wins\n",
      "Team Name: Dallas Mavericks              52 Wins\n",
      "Team Name: Cleveland Cavaliers           51 Wins\n",
      "Team Name: Memphis Grizzlies             51 Wins\n",
      "Team Name: Philadelphia 76ers            51 Wins\n",
      "Team Name: Golden State Warriors         51 Wins\n",
      "Team Name: Phoenix Suns                  51 Wins\n",
      "Team Name: Boston Celtics                51 Wins\n",
      "Team Name: Milwaukee Bucks               51 Wins\n",
      "Team Name: Philadelphia 76ers            51 Wins\n",
      "Team Name: Cleveland Cavaliers           51 Wins\n",
      "Team Name: Toronto Raptors               51 Wins\n",
      "Team Name: Los Angeles Clippers          51 Wins\n",
      "Team Name: Utah Jazz                     51 Wins\n",
      "Team Name: Portland Trail Blazers        51 Wins\n",
      "SELECT :Team_1 || nba_standings.\"Team\" AS team_name, nba_standings.\"W\" || :W_1 AS wins \n",
      "FROM nba_standings \n",
      "WHERE nba_standings.\"W\" > :W_2 ORDER BY nba_standings.\"W\" DESC\n"
     ]
    }
   ],
   "source": [
    "from sqlalchemy import func, cast\n",
    "stmt = select(\n",
    "    (\"Team Name: \" + Standings.Team).label(\"team_name\"), \n",
    "    (Standings.W + \" Wins\").label(\"wins\")).where(Standings.W > 50).order_by(Standings.W.desc())\n",
    "with engine.connect() as conn:\n",
    "    for row in conn.execute(stmt):\n",
    "        print(f\"{row.team_name:<40} {row.wins}\")\n",
    "print(stmt)"
   ]
  },
  {
   "cell_type": "code",
   "execution_count": 63,
   "metadata": {},
   "outputs": [
    {
     "name": "stdout",
     "output_type": "stream",
     "text": [
      "Team Name: Phoenix Suns                  48 Wins\n",
      "Team Name: Denver Nuggets                46 Wins\n",
      "Team Name: Brooklyn Nets                 38 Wins\n",
      "Team Name: Memphis Grizzlies             38 Wins\n",
      "Team Name: Milwaukee Bucks               38 Wins\n",
      "Team Name: Atlanta Hawks                 38 Wins\n",
      "Team Name: New Orleans Pelicans          36 Wins\n",
      "Team Name: Boston Celtics                36 Wins\n",
      "Team Name: Portland Trail Blazers        35 Wins\n",
      "Team Name: Brooklyn Nets                 35 Wins\n",
      "Team Name: Washington Wizards            34 Wins\n",
      "Team Name: Orlando Magic                 33 Wins\n",
      "SELECT :Team_1 || nba_standings.\"Team\" AS team_name, nba_standings.\"W\" || :W_1 AS wins \n",
      "FROM nba_standings \n",
      "WHERE nba_standings.\"W\" < :W_2 AND nba_standings.\"Playoffs\" = :Playoffs_1 OR nba_standings.\"W\" > :W_3 AND nba_standings.\"Playoffs\" = :Playoffs_2 ORDER BY nba_standings.\"W\" DESC\n"
     ]
    }
   ],
   "source": [
    "stmt = select(\n",
    "    (\"Team Name: \" + Standings.Team).label(\"team_name\"), \n",
    "    (Standings.W + \" Wins\").label(\"wins\")).where(or_(and_(Standings.W < 40, Standings.Playoffs == 'Y'),\n",
    "                                                     and_(Standings.W > 45, Standings.Playoffs == 'N'))).order_by(Standings.W.desc())\n",
    "with engine.connect() as conn:\n",
    "    for row in conn.execute(stmt):\n",
    "        print(f\"{row.team_name:<40} {row.wins}\")\n",
    "print(stmt)"
   ]
  }
 ],
 "metadata": {
  "kernelspec": {
   "display_name": "Python 3",
   "language": "python",
   "name": "python3"
  },
  "language_info": {
   "codemirror_mode": {
    "name": "ipython",
    "version": 3
   },
   "file_extension": ".py",
   "mimetype": "text/x-python",
   "name": "python",
   "nbconvert_exporter": "python",
   "pygments_lexer": "ipython3",
   "version": "3.11.5"
  }
 },
 "nbformat": 4,
 "nbformat_minor": 2
}
